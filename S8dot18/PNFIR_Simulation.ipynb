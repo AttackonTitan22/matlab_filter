{
 "cells": [
  {
   "cell_type": "code",
   "execution_count": 21,
   "id": "dd982aa8",
   "metadata": {},
   "outputs": [],
   "source": [
    "###########        sys_no: 1.  recurrent nonlinear system         \n",
    "###########                2.  exponential nonlinear system \n",
    "###########    input_type: 1.    random sequence           \n",
    "###########                2.    mean-zero white Gaussion noise with variance one\n",
    "###########                3.    colored noise\n",
    "###########     input_len:  length of input and output            \n",
    "import numpy as np; import copy\n",
    "def input_set(sys_no,input_type,input_len,scale): \n",
    "    if(0==input_type): \n",
    "        input_raw=np.random.random(input_len)\n",
    "    elif(1==input_type): \n",
    "        input_raw=2*np.random.random(input_len)-1\n",
    "    elif(2==input_type):\n",
    "        input_raw=np.random.standard_normal(size=input_len);\n",
    "    elif(3==input_type):\n",
    "        input_raw = np.zeros(input_len)\n",
    "        white_noise = np.random.standard_normal(size=input_len)\n",
    "        input_raw[0]=(-0.1)*white_noise[0]\n",
    "        input_raw[1]=0.04*input_raw[0]-0.1*white_noise[1]-0.01*white_noise[0]\n",
    "        input_raw[2]=0.04*input_raw[1]-0.034*input_raw[0]-0.1*white_noise[2]-0.01*white_noise[1]-0.137*white_noise[0]\n",
    "        input_raw[3]=0.04*input_raw[2]-0.034*input_raw[1]+0.0396*input_raw[0]-0.1*white_noise[3]-0.01*white_noise[2] \\\n",
    "                     -0.137*white_noise[1]+0.0353*white_noise[0]\n",
    "        for t in range(4,input_len):\n",
    "            input_raw[t]=0.04*input_raw[t-1]-0.034*input_raw[t-2]+0.0396*input_raw[t-3]-0.07656*input_raw[t-4] \\\n",
    "            -0.1*white_noise[t]-0.01*white_noise[t-1]-0.137*white_noise[t-2]+0.0353*white_noise[t-3]+0.06984*white_noise[t-4]\n",
    "    elif(4==input_type):\n",
    "        input_raw = np.zeros(input_len)\n",
    "        white_noise = np.random.standard_normal(size=input_len)\n",
    "        input_raw[0]=white_noise[0]\n",
    "        input_raw[1]=1.79*input_raw[0]+white_noise[1]\n",
    "        input_raw[2]=1.79*input_raw[1]-1.85*input_raw[0]+white_noise[2]\n",
    "        input_raw[3]=1.79*input_raw[2]-1.85*input_raw[1]+1.27*input_raw[0]+white_noise[3]\n",
    "        for t in range(4,input_len):\n",
    "            input_raw[t]=1.79*input_raw[t-1]-1.85*input_raw[t-2]+1.27*input_raw[t-3]-0.41*input_raw[t-4] \\\n",
    "            +white_noise[t]\n",
    "    if(1==scale):\n",
    "        input_raw_max=max(input_raw);input_raw_min=min(input_raw);\n",
    "        for tt in range(0,input_len):\n",
    "            input_raw[tt]=(0)+((input_raw[tt]-input_raw_min)*(0.6-0))/(input_raw_max-input_raw_min)\n",
    "    output_raw=(np.zeros(input_len))\n",
    "    if(1==sys_no):\n",
    "        for i in range(1,input_len): output_raw[i]=output_raw[i-1]/(1+output_raw[i-1]**2)+input_raw[i]**3\n",
    "    elif(2==sys_no):\n",
    "        for i in range(1,input_len): \n",
    "            output_raw[i]=input_raw[i]+0.5*np.exp(-((input_raw[i-1]-1)**2)/0.67)-0.5*np.exp(-((input_raw[i-1]+1)**2)/0.67) \n",
    "    snr=30;info_power=((np.linalg.norm(output_raw))**2)/input_len;snr_lin = 10**(snr/10);noise_power = info_power/snr_lin;\n",
    "    output_noise = output_raw + np.sqrt(noise_power)*np.random.standard_normal(input_len)\n",
    "    return input_raw,output_raw,output_noise\n",
    "def PNFIR_model(input_data,desire_data,M_num,p_num,train):\n",
    "    nonlin_input_len=p_num+1;\n",
    "    weight_nonlin = np.zeros(M_num*nonlin_input_len).reshape(M_num,nonlin_input_len)\n",
    "    weight_linear = np.zeros(M_num)\n",
    "    value_a=0.1\n",
    "    lambda_a=0\n",
    "    input_module = np.zeros(M_num*nonlin_input_len).reshape(M_num,nonlin_input_len);\n",
    "    input_module_pd1 = np.zeros_like(input_module)\n",
    "    external_input = np.zeros(M_num); \n",
    "    output_modul = np.zeros(M_num*(len(input_data))).reshape(M_num,len(input_data)); \n",
    "    output_nonlin = np.zeros_like(output_modul);\n",
    "    output_linear = np.zeros_like(input_data)\n",
    "    output_filter = np.zeros_like(input_data)\n",
    "    dif_output_modul = np.zeros(M_num); \n",
    "    error = np.zeros_like(input_data)\n",
    "    for i in range(M_num+p_num-1,len(input_data)):\n",
    "        #for ii in range(M_num-1,-1,-1): \n",
    "        for ii in range(0,M_num,1):   \n",
    "            if(ii==(M_num-1)):   #  external_input(r) \n",
    "                external_input[ii]=output_nonlin[0,i-1]\n",
    "            else :\n",
    "                external_input[ii]=output_nonlin[ii+1,i]\n",
    "            for iii in range(0,p_num):\n",
    "                input_module[ii,iii]=input_data[i-ii-iii-1] # p input\n",
    "            input_module[ii,p_num]  = external_input[ii]\n",
    "            output_modul[ii,i]=np.dot(weight_nonlin[ii,:],input_module[ii,:].T)\n",
    "            output_nonlin[ii,i]=1./(1+np.exp((-1)*(copy.deepcopy(output_modul[ii,i]))))   \n",
    "            dif_output_modul[ii]=( np.exp((-1)*(copy.deepcopy(output_modul[ii,i]))) )/( (1+np.exp((-1)*(copy.deepcopy(output_modul[ii,i]))))*(1+np.exp((-1)*(copy.deepcopy(output_modul[ii,i])))) )\n",
    "        output_linear=np.dot(weight_linear,output_nonlin[:,i].T)\n",
    "        lambda_a=1./(1+np.exp((-1)*(copy.deepcopy(value_a))))\n",
    "        output_filter[i]=lambda_a*output_linear+(1-lambda_a)*(sum(output_modul[:,i]))     \n",
    "        error[i]=desire_data[i-1] - output_filter[i]\n",
    "        gama=train[4]\n",
    "        for iiii in range(0,M_num):\n",
    "            input_module_pd1[iiii,:]=input_module[iiii,:]*(lambda_a*dif_output_modul[iiii]*weight_linear[iiii]+1-lambda_a);\n",
    "            if(0==train[3]):\n",
    "                weight_nonlin[iiii,:]+=train[0]*error[i]*input_module_pd1[iiii,:]\n",
    "            else:\n",
    "                weight_nonlin[iiii,:]+=train[0]*error[i]*input_module_pd1[iiii,:]/(gama+np.linalg.norm(input_module_pd1[iiii,:])**2) \n",
    "        if(0==train[3]):\n",
    "            weight_linear+=train[1]*error[i]*(output_nonlin[:,i]).T\n",
    "        else:\n",
    "            weight_linear+=train[1]*error[i]*((output_nonlin[:,i]).T)/(gama+np.linalg.norm(((output_nonlin[:,i]).T))**2)\n",
    "        value_a+=train[2]*error[i]*(output_linear-(sum(output_modul[:,i])))*lambda_a*(1-lambda_a)\n",
    "    return output_filter,error,weight_linear,weight_nonlin,value_a"
   ]
  },
  {
   "cell_type": "markdown",
   "id": "eae0c010",
   "metadata": {},
   "source": [
    "# Example 4"
   ]
  },
  {
   "cell_type": "code",
   "execution_count": 22,
   "id": "5c90f334",
   "metadata": {},
   "outputs": [
    {
     "name": "stdout",
     "output_type": "stream",
     "text": [
      "apoch: 0 PNFIR  -30.022832345525647 dB\n",
      "apoch: 50 PNFIR  -29.580609229275723 dB\n",
      "apoch: 100 -29.868295011172712 dB \n",
      "mean_MSE: PNFIR 0.001187086387365449\n"
     ]
    }
   ],
   "source": [
    "N = 5000; M = 5; p = 2; apoch = 100\n",
    "train_para=np.array([0.6,0.01,0.6,0,1e-4]) \n",
    "error2_sum_PNFIR=np.zeros(N);\n",
    "for times in range(0,apoch):\n",
    "    x_raw,d_raw,d_noise=input_set(1,0,N,1)    # Random Sequence\n",
    "    output_filter,error_PNFIR,weight_lin,weght_non,value_a=PNFIR_model(x_raw,d_noise,M,p,train_para)  \n",
    "    error2_sum_PNFIR+=error_PNFIR**2\n",
    "    if(0==times%50):\n",
    "        print('apoch:',times,'PNFIR ',10*np.log10(np.mean(error_PNFIR[-200:]**2)),'dB')\n",
    "error2_sum_PNFIR/=apoch;\n",
    "print('apoch:',apoch,10*np.log10(np.mean(error2_sum_PNFIR[-500:])),'dB','\\nmean_MSE:','PNFIR',np.mean(error2_sum_PNFIR))"
   ]
  },
  {
   "cell_type": "code",
   "execution_count": 23,
   "id": "93b34613",
   "metadata": {},
   "outputs": [
    {
     "name": "stderr",
     "output_type": "stream",
     "text": [
      "C:\\Windows\\Temp/ipykernel_27992/4182837445.py:28: RuntimeWarning: divide by zero encountered in log10\n",
      "  plt.plot(np.arange(N), 10*np.log10(error2_sum_PNFIR), color='#1887F0',label=\"PNFIR\",linewidth=0.6)\n"
     ]
    },
    {
     "data": {
      "image/png": "[encoded data removed]",
      "text/plain": [
       "<Figure size 547.402x452.283 with 1 Axes>"
      ]
     },
     "metadata": {
      "needs_background": "light"
     },
     "output_type": "display_data"
    }
   ],
   "source": [
    "import matplotlib as mpl;import matplotlib.pyplot as plt;import copy\n",
    "import matplotlib.font_manager as fm;from matplotlib.ticker import MultipleLocator,AutoMinorLocator\n",
    "# 图片大小,单位厘米\n",
    "fw = 8.69/2.54; fh = 7.18/2.54 \n",
    "# 设置全局的字体\n",
    "mpl.rcParams['font.family'] = 'serif'\n",
    "mpl.rcParams['font.serif'] = 'Times New Roman'\n",
    "mpl.rcParams['font.style'] = 'normal'\n",
    "mpl.rcParams['font.variant'] = 'normal'\n",
    "mpl.rcParams['font.weight'] = 'normal'\n",
    "mpl.rcParams['font.stretch'] ='normal'\n",
    "mpl.rcParams['font.size'] = 9\n",
    "font0 = {'fontfamily': 'serif',\n",
    "         'fontname': 'Times New Roman',\n",
    "         'fontstyle': 'normal',\n",
    "         'fontvariant': 'normal',\n",
    "         'fontweight': 'normal',\n",
    "         'fontstretch': 'normal',\n",
    "         'fontsize': 9}\n",
    "tick_font = fm.FontProperties(family='Times New Roman', style='normal', variant='normal', weight='normal',\n",
    "                           stretch='normal', size=9)\n",
    "\n",
    "fig = plt.figure(figsize=(fw,fh),dpi=160);    \n",
    "ax = fig.add_subplot(111)\n",
    "\n",
    "#plt.plot(np.arange(N), 10*np.log10(error2_sum_PSOV), color='#F00CC5',label=\"PSOV\",linewidth=0.6)\n",
    "#plt.plot(np.arange(N), 10*np.log10(error2_sum_SOV), color='#37F500', label=\"SOV\", linewidth=0.6)\n",
    "plt.plot(np.arange(N), 10*np.log10(error2_sum_PNFIR), color='#1887F0',label=\"PNFIR\",linewidth=0.6)\n",
    "\n",
    "ax.set_xlim(0,N); ax.set_ylim(-35,0);\n",
    "ax.tick_params(which='major',length=2,width=0.57,bottom=True, top=True, left=True, right=True);\n",
    "ax.tick_params(which='minor',length=1.7,width=0.57,bottom=True, top=True, left=True, right=True)\n",
    "ax.tick_params(labelbottom=True, labeltop=False, labelleft=True, labelright=False)\n",
    "ax.tick_params(axis=\"both\", which='both', direction=\"in\") \n",
    "ax.xaxis.set_major_locator(MultipleLocator(base=1000))\n",
    "ax.xaxis.set_minor_locator(MultipleLocator(base=500))\n",
    "ax.xaxis.set_minor_formatter((mpl.ticker.FormatStrFormatter('%.0f')))\n",
    "ax.yaxis.set_major_locator(MultipleLocator(base=10))\n",
    "ax.yaxis.set_minor_locator(MultipleLocator(base=5))\n",
    "ax.yaxis.set_minor_formatter((mpl.ticker.FormatStrFormatter('%.0f')))\n",
    "# 设置tick_label字体\n",
    "for xtlabel in ax.get_xticklabels():\n",
    "    xtlabel.set_fontproperties(tick_font)\n",
    "for ytlabel in ax.get_yticklabels():\n",
    "    ytlabel.set_fontproperties(tick_font)\n",
    "# 设置图形变宽线宽度和颜色\n",
    "bwith = 0.57\n",
    "ax.spines['left'].set_color((0,0,0,1))\n",
    "ax.spines['left'].set_linewidth(bwith)\n",
    "ax.spines['right'].set_color((0,0,0,1))\n",
    "ax.spines['right'].set_linewidth(bwith)\n",
    "ax.spines['top'].set_color((0,0,0,1))\n",
    "ax.spines['top'].set_linewidth(bwith)\n",
    "ax.spines['bottom'].set_color((0,0,0,1))\n",
    "ax.spines['bottom'].set_linewidth(bwith)\n",
    "# 设置图形坐标轴标签和标题字体\n",
    "ax.set_xlabel('Iteration',fontdict=font0)  \n",
    "ax.set_ylabel('MSE (dB)',fontdict=font0)  \n",
    "ax.legend(loc='upper right',frameon=True,edgecolor='black',facecolor='white',\\\n",
    "          shadow=False,fancybox=False,fontsize='small').get_frame().set_linewidth(0.57) \n",
    "plt.tight_layout()   \n",
    "#fig.savefig('D:\\\\Postgraduatee\\\\sketch\\photo\\\\S6dot25\\\\sys_exp_random.PNG', bbox_inches='tight', dpi=1200)\n",
    "plt.show();"
   ]
  },
  {
   "cell_type": "markdown",
   "id": "c1e5c2bb",
   "metadata": {},
   "source": [
    "# Example 4"
   ]
  },
  {
   "cell_type": "code",
   "execution_count": 24,
   "id": "9d74beeb",
   "metadata": {},
   "outputs": [
    {
     "name": "stdout",
     "output_type": "stream",
     "text": [
      "apoch: 0 PNFIR  -36.73760134593768 dB\n",
      "apoch: 50 PNFIR  -35.29655054306639 dB\n",
      "apoch: 100 -34.830782985890764 dB \n",
      "mean_MSE: PNFIR 0.0004169376172470392\n"
     ]
    }
   ],
   "source": [
    "N = 5000; M = 5; p = 2; apoch = 100\n",
    "train_para=np.array([0.5,0.001,0.01,0,1e-4])  \n",
    "error2_sum_PNFIR=np.zeros(N);\n",
    "for times in range(0,apoch):\n",
    "    x_raw,d_raw,d_noise=input_set(1,4,N,1)    # Colored signal\n",
    "    output_filter,error_PNFIR,weight_lin,weght_non,value_a=PNFIR_model(x_raw,d_noise,M,p,train_para)  #PNFIR\n",
    "    error2_sum_PNFIR+=error_PNFIR**2\n",
    "    if(0==times%50):\n",
    "        print('apoch:',times,'PNFIR ',10*np.log10(np.mean(error_PNFIR[-200:]**2)),'dB')\n",
    "error2_sum_PNFIR/=apoch;\n",
    "print('apoch:',apoch,10*np.log10(np.mean(error2_sum_PNFIR[-500:])),'dB','\\nmean_MSE:','PNFIR',np.mean(error2_sum_PNFIR))"
   ]
  },
  {
   "cell_type": "code",
   "execution_count": 25,
   "id": "7914a2c1",
   "metadata": {},
   "outputs": [
    {
     "name": "stderr",
     "output_type": "stream",
     "text": [
      "C:\\Windows\\Temp/ipykernel_27992/3593529889.py:28: RuntimeWarning: divide by zero encountered in log10\n",
      "  plt.plot(np.arange(N), 10*np.log10(error2_sum_PNFIR), color='#1887F0',label=\"PNFIR\",linewidth=0.6)\n"
     ]
    },
    {
     "data": {
      "image/png": "[encoded data removed]",
      "text/plain": [
       "<Figure size 547.402x452.283 with 1 Axes>"
      ]
     },
     "metadata": {
      "needs_background": "light"
     },
     "output_type": "display_data"
    }
   ],
   "source": [
    "import matplotlib as mpl;import matplotlib.pyplot as plt;import copy\n",
    "import matplotlib.font_manager as fm;from matplotlib.ticker import MultipleLocator,AutoMinorLocator\n",
    "# 图片大小,单位厘米\n",
    "fw = 8.69/2.54; fh = 7.18/2.54 \n",
    "# 设置全局的字体\n",
    "mpl.rcParams['font.family'] = 'serif'\n",
    "mpl.rcParams['font.serif'] = 'Times New Roman'\n",
    "mpl.rcParams['font.style'] = 'normal'\n",
    "mpl.rcParams['font.variant'] = 'normal'\n",
    "mpl.rcParams['font.weight'] = 'normal'\n",
    "mpl.rcParams['font.stretch'] ='normal'\n",
    "mpl.rcParams['font.size'] = 9\n",
    "font0 = {'fontfamily': 'serif',\n",
    "         'fontname': 'Times New Roman',\n",
    "         'fontstyle': 'normal',\n",
    "         'fontvariant': 'normal',\n",
    "         'fontweight': 'normal',\n",
    "         'fontstretch': 'normal',\n",
    "         'fontsize': 9}\n",
    "tick_font = fm.FontProperties(family='Times New Roman', style='normal', variant='normal', weight='normal',\n",
    "                           stretch='normal', size=9)\n",
    "\n",
    "fig = plt.figure(figsize=(fw,fh),dpi=160);    \n",
    "ax = fig.add_subplot(111)\n",
    "\n",
    "#plt.plot(np.arange(N), 10*np.log10(error2_sum_PSOV), color='#F00CC5',label=\"PSOV\",linewidth=0.6)\n",
    "#plt.plot(np.arange(N), 10*np.log10(error2_sum_SOV), color='#37F500', label=\"SOV\", linewidth=0.6)\n",
    "plt.plot(np.arange(N), 10*np.log10(error2_sum_PNFIR), color='#1887F0',label=\"PNFIR\",linewidth=0.6)\n",
    "\n",
    "ax.set_xlim(0,N); ax.set_ylim(-40,-5);\n",
    "ax.tick_params(which='major',length=2,width=0.57,bottom=True, top=True, left=True, right=True);\n",
    "ax.tick_params(which='minor',length=1.7,width=0.57,bottom=True, top=True, left=True, right=True)\n",
    "ax.tick_params(labelbottom=True, labeltop=False, labelleft=True, labelright=False)\n",
    "ax.tick_params(axis=\"both\", which='both', direction=\"in\") \n",
    "ax.xaxis.set_major_locator(MultipleLocator(base=1000))\n",
    "ax.xaxis.set_minor_locator(MultipleLocator(base=500))\n",
    "ax.xaxis.set_minor_formatter((mpl.ticker.FormatStrFormatter('%.0f')))\n",
    "ax.yaxis.set_major_locator(MultipleLocator(base=10))\n",
    "ax.yaxis.set_minor_locator(MultipleLocator(base=5))\n",
    "ax.yaxis.set_minor_formatter((mpl.ticker.FormatStrFormatter('%.0f')))\n",
    "# 设置tick_label字体\n",
    "for xtlabel in ax.get_xticklabels():\n",
    "    xtlabel.set_fontproperties(tick_font)\n",
    "for ytlabel in ax.get_yticklabels():\n",
    "    ytlabel.set_fontproperties(tick_font)\n",
    "# 设置图形变宽线宽度和颜色\n",
    "bwith = 0.57\n",
    "ax.spines['left'].set_color((0,0,0,1))\n",
    "ax.spines['left'].set_linewidth(bwith)\n",
    "ax.spines['right'].set_color((0,0,0,1))\n",
    "ax.spines['right'].set_linewidth(bwith)\n",
    "ax.spines['top'].set_color((0,0,0,1))\n",
    "ax.spines['top'].set_linewidth(bwith)\n",
    "ax.spines['bottom'].set_color((0,0,0,1))\n",
    "ax.spines['bottom'].set_linewidth(bwith)\n",
    "# 设置图形坐标轴标签和标题字体\n",
    "ax.set_xlabel('Iteration',fontdict=font0)  \n",
    "ax.set_ylabel('MSE (dB)',fontdict=font0)  \n",
    "ax.legend(loc='upper right',frameon=True,edgecolor='black',facecolor='white',\\\n",
    "          shadow=False,fancybox=False,fontsize='small').get_frame().set_linewidth(0.57) \n",
    "plt.tight_layout()   \n",
    "#fig.savefig('D:\\\\Postgraduatee\\\\sketch\\photo\\\\S6dot25\\\\sys_exp_random.PNG', bbox_inches='tight', dpi=1200)\n",
    "plt.show();"
   ]
  },
  {
   "cell_type": "code",
   "execution_count": null,
   "id": "97713d09",
   "metadata": {},
   "outputs": [],
   "source": []
  }
 ],
 "metadata": {
  "kernelspec": {
   "display_name": "Python 3 (ipykernel)",
   "language": "python",
   "name": "python3"
  },
  "language_info": {
   "codemirror_mode": {
    "name": "ipython",
    "version": 3
   },
   "file_extension": ".py",
   "mimetype": "text/x-python",
   "name": "python",
   "nbconvert_exporter": "python",
   "pygments_lexer": "ipython3",
   "version": "3.8.11"
  }
 },
 "nbformat": 4,
 "nbformat_minor": 5
}
